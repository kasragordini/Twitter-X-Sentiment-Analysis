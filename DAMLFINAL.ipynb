{
 "cells": [
  {
   "cell_type": "markdown",
   "id": "5ae3faad",
   "metadata": {},
   "source": [
    "### IMPORTING NECESSARY LIBRARIES"
   ]
  },
  {
   "cell_type": "code",
   "execution_count": 1,
   "id": "9f74d498",
   "metadata": {},
   "outputs": [],
   "source": [
    "import re\n",
    "import numpy as np\n",
    "import pandas as pd\n",
    "import seaborn as sns\n",
    "import matplotlib.pyplot as plt\n",
    "from nltk.stem import WordNetLemmatizer\n",
    "from sklearn.linear_model import LogisticRegression\n",
    "from sklearn.neighbors import KNeighborsClassifier\n",
    "from tensorflow.keras.models import Sequential\n",
    "from tensorflow.keras.layers import LSTM, Dense\n",
    "from sklearn.metrics import accuracy_score, confusion_matrix\n",
    "from sklearn.model_selection import train_test_split\n",
    "from sklearn.feature_extraction.text import TfidfVectorizer"
   ]
  },
  {
   "cell_type": "markdown",
   "id": "e18ea56a",
   "metadata": {},
   "source": [
    "### IMPORTING THE DATASET"
   ]
  },
  {
   "cell_type": "code",
   "execution_count": 2,
   "id": "1319ff53",
   "metadata": {},
   "outputs": [
    {
     "data": {
      "text/plain": [
       "(1600000, 6)"
      ]
     },
     "execution_count": 2,
     "metadata": {},
     "output_type": "execute_result"
    }
   ],
   "source": [
    "Columns=['target','ID','date','flag','user','tweet']\n",
    "Encoding = \"ISO-8859-1\"\n",
    "df = pd.read_csv('D:\\Assignments\\DAML_DATA.csv', encoding=Encoding, names=Columns)\n",
    "df.shape"
   ]
  },
  {
   "cell_type": "markdown",
   "id": "b7ea237b",
   "metadata": {},
   "source": [
    "### EXPLORATORY DATA ANALYSIS"
   ]
  },
  {
   "cell_type": "code",
   "execution_count": 3,
   "id": "7a8acf8b",
   "metadata": {},
   "outputs": [
    {
     "data": {
      "text/html": [
       "<div>\n",
       "<style scoped>\n",
       "    .dataframe tbody tr th:only-of-type {\n",
       "        vertical-align: middle;\n",
       "    }\n",
       "\n",
       "    .dataframe tbody tr th {\n",
       "        vertical-align: top;\n",
       "    }\n",
       "\n",
       "    .dataframe thead th {\n",
       "        text-align: right;\n",
       "    }\n",
       "</style>\n",
       "<table border=\"1\" class=\"dataframe\">\n",
       "  <thead>\n",
       "    <tr style=\"text-align: right;\">\n",
       "      <th></th>\n",
       "      <th>target</th>\n",
       "      <th>ID</th>\n",
       "      <th>date</th>\n",
       "      <th>flag</th>\n",
       "      <th>user</th>\n",
       "      <th>tweet</th>\n",
       "    </tr>\n",
       "  </thead>\n",
       "  <tbody>\n",
       "    <tr>\n",
       "      <th>0</th>\n",
       "      <td>0</td>\n",
       "      <td>1467810369</td>\n",
       "      <td>Mon Apr 06 22:19:45 PDT 2009</td>\n",
       "      <td>NO_QUERY</td>\n",
       "      <td>_TheSpecialOne_</td>\n",
       "      <td>@switchfoot http://twitpic.com/2y1zl - Awww, t...</td>\n",
       "    </tr>\n",
       "    <tr>\n",
       "      <th>1</th>\n",
       "      <td>0</td>\n",
       "      <td>1467810672</td>\n",
       "      <td>Mon Apr 06 22:19:49 PDT 2009</td>\n",
       "      <td>NO_QUERY</td>\n",
       "      <td>scotthamilton</td>\n",
       "      <td>is upset that he can't update his Facebook by ...</td>\n",
       "    </tr>\n",
       "    <tr>\n",
       "      <th>2</th>\n",
       "      <td>0</td>\n",
       "      <td>1467810917</td>\n",
       "      <td>Mon Apr 06 22:19:53 PDT 2009</td>\n",
       "      <td>NO_QUERY</td>\n",
       "      <td>mattycus</td>\n",
       "      <td>@Kenichan I dived many times for the ball. Man...</td>\n",
       "    </tr>\n",
       "    <tr>\n",
       "      <th>3</th>\n",
       "      <td>0</td>\n",
       "      <td>1467811184</td>\n",
       "      <td>Mon Apr 06 22:19:57 PDT 2009</td>\n",
       "      <td>NO_QUERY</td>\n",
       "      <td>ElleCTF</td>\n",
       "      <td>my whole body feels itchy and like its on fire</td>\n",
       "    </tr>\n",
       "    <tr>\n",
       "      <th>4</th>\n",
       "      <td>0</td>\n",
       "      <td>1467811193</td>\n",
       "      <td>Mon Apr 06 22:19:57 PDT 2009</td>\n",
       "      <td>NO_QUERY</td>\n",
       "      <td>Karoli</td>\n",
       "      <td>@nationwideclass no, it's not behaving at all....</td>\n",
       "    </tr>\n",
       "  </tbody>\n",
       "</table>\n",
       "</div>"
      ],
      "text/plain": [
       "   target          ID                          date      flag  \\\n",
       "0       0  1467810369  Mon Apr 06 22:19:45 PDT 2009  NO_QUERY   \n",
       "1       0  1467810672  Mon Apr 06 22:19:49 PDT 2009  NO_QUERY   \n",
       "2       0  1467810917  Mon Apr 06 22:19:53 PDT 2009  NO_QUERY   \n",
       "3       0  1467811184  Mon Apr 06 22:19:57 PDT 2009  NO_QUERY   \n",
       "4       0  1467811193  Mon Apr 06 22:19:57 PDT 2009  NO_QUERY   \n",
       "\n",
       "              user                                              tweet  \n",
       "0  _TheSpecialOne_  @switchfoot http://twitpic.com/2y1zl - Awww, t...  \n",
       "1    scotthamilton  is upset that he can't update his Facebook by ...  \n",
       "2         mattycus  @Kenichan I dived many times for the ball. Man...  \n",
       "3          ElleCTF    my whole body feels itchy and like its on fire   \n",
       "4           Karoli  @nationwideclass no, it's not behaving at all....  "
      ]
     },
     "execution_count": 3,
     "metadata": {},
     "output_type": "execute_result"
    }
   ],
   "source": [
    "df.head()"
   ]
  },
  {
   "cell_type": "code",
   "execution_count": 4,
   "id": "7788d480",
   "metadata": {},
   "outputs": [],
   "source": [
    "dataset=df[['tweet','target']]"
   ]
  },
  {
   "cell_type": "code",
   "execution_count": 5,
   "id": "8c390bbc",
   "metadata": {},
   "outputs": [
    {
     "name": "stdout",
     "output_type": "stream",
     "text": [
      "<class 'pandas.core.frame.DataFrame'>\n",
      "RangeIndex: 1600000 entries, 0 to 1599999\n",
      "Data columns (total 2 columns):\n",
      " #   Column  Non-Null Count    Dtype \n",
      "---  ------  --------------    ----- \n",
      " 0   tweet   1600000 non-null  object\n",
      " 1   target  1600000 non-null  int64 \n",
      "dtypes: int64(1), object(1)\n",
      "memory usage: 24.4+ MB\n"
     ]
    }
   ],
   "source": [
    "dataset.info()"
   ]
  },
  {
   "cell_type": "code",
   "execution_count": 6,
   "id": "b2e3dadc",
   "metadata": {},
   "outputs": [
    {
     "data": {
      "image/png": "[encoded data removed]",
      "text/plain": [
       "<Figure size 640x480 with 1 Axes>"
      ]
     },
     "metadata": {},
     "output_type": "display_data"
    }
   ],
   "source": [
    "ax = dataset.groupby('target').count().plot(kind='bar', title='Distribution of data',legend=False)\n",
    "ax.set_xticklabels(['Negative','Positive'], rotation=0)\n",
    "tweet, target = list(dataset['tweet']), list(dataset['target'])"
   ]
  },
  {
   "cell_type": "markdown",
   "id": "b587b760",
   "metadata": {},
   "source": [
    "### DATA PRE-PROCESSING"
   ]
  },
  {
   "cell_type": "code",
   "execution_count": 7,
   "id": "bcbfa550",
   "metadata": {},
   "outputs": [
    {
     "name": "stderr",
     "output_type": "stream",
     "text": [
      "C:\\Users\\ASUS\\AppData\\Local\\Temp\\ipykernel_13220\\642255261.py:1: SettingWithCopyWarning: \n",
      "A value is trying to be set on a copy of a slice from a DataFrame.\n",
      "Try using .loc[row_indexer,col_indexer] = value instead\n",
      "\n",
      "See the caveats in the documentation: https://pandas.pydata.org/pandas-docs/stable/user_guide/indexing.html#returning-a-view-versus-a-copy\n",
      "  dataset['target'] = dataset['target'].replace(4,1)\n"
     ]
    },
    {
     "data": {
      "text/plain": [
       "array([0, 1], dtype=int64)"
      ]
     },
     "execution_count": 7,
     "metadata": {},
     "output_type": "execute_result"
    }
   ],
   "source": [
    "dataset['target'] = dataset['target'].replace(4,1)\n",
    "dataset['target'].unique()"
   ]
  },
  {
   "cell_type": "code",
   "execution_count": 8,
   "id": "387aad22",
   "metadata": {},
   "outputs": [
    {
     "name": "stdout",
     "output_type": "stream",
     "text": [
      "Number of negative tweets (0): 800000\n",
      "Number of positive tweets (1): 800000\n"
     ]
    }
   ],
   "source": [
    "positive_count = dataset['target'].value_counts()[0]\n",
    "negative_count = dataset['target'].value_counts()[1]\n",
    "print(f\"Number of negative tweets (0): {negative_count}\")\n",
    "print(f\"Number of positive tweets (1): {positive_count}\")"
   ]
  },
  {
   "cell_type": "code",
   "execution_count": 9,
   "id": "d8d40678",
   "metadata": {},
   "outputs": [
    {
     "name": "stdout",
     "output_type": "stream",
     "text": [
      "1    5000\n",
      "0    5000\n",
      "Name: target, dtype: int64\n"
     ]
    }
   ],
   "source": [
    "negative_tweets = dataset[dataset['target'] == 0].sample(n=5000, random_state=42)\n",
    "positive_tweets = dataset[dataset['target'] == 1].sample(n=5000, random_state=42)\n",
    "\n",
    "data = pd.concat([negative_tweets, positive_tweets])\n",
    "\n",
    "data = data.sample(frac=1, random_state=42).reset_index(drop=True)\n",
    "\n",
    "print(data['target'].value_counts())"
   ]
  },
  {
   "cell_type": "code",
   "execution_count": 10,
   "id": "f300bd1c",
   "metadata": {},
   "outputs": [
    {
     "name": "stdout",
     "output_type": "stream",
     "text": [
      "<class 'pandas.core.frame.DataFrame'>\n",
      "RangeIndex: 10000 entries, 0 to 9999\n",
      "Data columns (total 2 columns):\n",
      " #   Column  Non-Null Count  Dtype \n",
      "---  ------  --------------  ----- \n",
      " 0   tweet   10000 non-null  object\n",
      " 1   target  10000 non-null  int64 \n",
      "dtypes: int64(1), object(1)\n",
      "memory usage: 156.4+ KB\n"
     ]
    }
   ],
   "source": [
    "data.info()"
   ]
  },
  {
   "cell_type": "markdown",
   "id": "4639f8cd",
   "metadata": {},
   "source": [
    "### REMOVING STOPWORDS"
   ]
  },
  {
   "cell_type": "code",
   "execution_count": 11,
   "id": "0dddd814",
   "metadata": {},
   "outputs": [
    {
     "data": {
      "text/plain": [
       "0             found perfect title portfolio. song love\n",
       "1    new anti-virus ive installed seems effective, ...\n",
       "2    fact: still love him...you learn mistakes, hop...\n",
       "3    think gotta make new twitter account cuz &quot...\n",
       "4    end weekend....back work tomorrow need longer ...\n",
       "Name: tweet, dtype: object"
      ]
     },
     "execution_count": 11,
     "metadata": {},
     "output_type": "execute_result"
    }
   ],
   "source": [
    "data['tweet']=data['tweet'].str.lower()\n",
    "data['tweet'].head()\n",
    "stopwordlist = ['a', 'about', 'above', 'after', 'again', 'ain', 'all', 'am', 'an',\n",
    "             'and','any','are', 'as', 'at', 'be', 'because', 'been', 'before',\n",
    "             'being', 'below', 'between','both', 'by', 'can', 'd', 'did', 'do',\n",
    "             'does', 'doing', 'down', 'during', 'each','few', 'for', 'from',\n",
    "             'further', 'had', 'has', 'have', 'having', 'he', 'her', 'here',\n",
    "             'hers', 'herself', 'him', 'himself', 'his', 'how', 'i', 'if', 'in',\n",
    "             'into','is', 'it', 'its', 'itself', 'just', 'll', 'm', 'ma',\n",
    "             'me', 'more', 'most','my', 'myself', 'now', 'o', 'of', 'on', 'once',\n",
    "             'only', 'or', 'other', 'our', 'ours','ourselves', 'out', 'own', 're','s', 'same', 'she', \"shes\", 'should', \"shouldve\",'so', 'some', 'such',\n",
    "             't', 'than', 'that', \"thatll\", 'the', 'their', 'theirs', 'them',\n",
    "             'themselves', 'then', 'there', 'these', 'they', 'this', 'those',\n",
    "             'through', 'to', 'too','under', 'until', 'up', 've', 'very', 'was',\n",
    "             'we', 'were', 'what', 'when', 'where','which','while', 'who', 'whom',\n",
    "             'why', 'will', 'with', 'won', 'y', 'you', \"youd\",\"youll\", \"youre\",\n",
    "             \"youve\", 'your', 'yours', 'yourself', 'yourselves']\n",
    "\n",
    "STOPWORDS = set(stopwordlist)\n",
    "\n",
    "def cleaning_stopwords(tweet):\n",
    "    return \" \".join([word for word in str(tweet).split() if word not in STOPWORDS])\n",
    "data['tweet'] = data['tweet'].apply(lambda tweet: cleaning_stopwords(tweet))\n",
    "data['tweet'].head()"
   ]
  },
  {
   "cell_type": "markdown",
   "id": "1955966e",
   "metadata": {},
   "source": [
    "### REMOVING PUNCTUATIONS"
   ]
  },
  {
   "cell_type": "code",
   "execution_count": 12,
   "id": "bc339e10",
   "metadata": {},
   "outputs": [
    {
     "data": {
      "text/plain": [
       "0              found perfect title portfolio song love\n",
       "1    new antivirus ive installed seems effective st...\n",
       "2    fact still love himyou learn mistakes hope don...\n",
       "3    think gotta make new twitter account cuz quots...\n",
       "4    end weekendback work tomorrow need longer week...\n",
       "Name: tweet, dtype: object"
      ]
     },
     "execution_count": 12,
     "metadata": {},
     "output_type": "execute_result"
    }
   ],
   "source": [
    "import string\n",
    "punctuations_list = string.punctuation\n",
    "def cleaning_punctuations(tweet):\n",
    "    translator = str.maketrans('', '', punctuations_list)\n",
    "    return tweet.translate(translator)\n",
    "data['tweet']= data['tweet'].apply(lambda x: cleaning_punctuations(x))\n",
    "data['tweet'].head()"
   ]
  },
  {
   "cell_type": "markdown",
   "id": "6dbc36cf",
   "metadata": {},
   "source": [
    "### REMOVING REPEATING CHARACTERS, URLs, NUMBERS"
   ]
  },
  {
   "cell_type": "code",
   "execution_count": 13,
   "id": "7e3a9e20",
   "metadata": {},
   "outputs": [
    {
     "data": {
      "text/plain": [
       "0              found perfect title portfolio song love\n",
       "1    new antivirus ive installed seems effective st...\n",
       "2    fact still love himyou learn mistakes hope don...\n",
       "3    think gotta make new twitter account cuz quots...\n",
       "4    end weekendback work tomorrow need longer week...\n",
       "Name: tweet, dtype: object"
      ]
     },
     "execution_count": 13,
     "metadata": {},
     "output_type": "execute_result"
    }
   ],
   "source": [
    "def cleaning_repeating_char(tweet):\n",
    "    return re.sub(r'(.)1+', r'1', tweet)\n",
    "data['tweet'] = data['tweet'].apply(lambda x: cleaning_repeating_char(x))\n",
    "data['tweet'].head()"
   ]
  },
  {
   "cell_type": "code",
   "execution_count": 14,
   "id": "ce21b32f",
   "metadata": {},
   "outputs": [
    {
     "data": {
      "text/plain": [
       "0              found perfect title portfolio song love\n",
       "1    new antivirus ive installed seems effective st...\n",
       "2    fact still love himyou learn mistakes hope don...\n",
       "3    think gotta make new twitter account cuz quots...\n",
       "4    end weekendback work tomorrow need longer week...\n",
       "Name: tweet, dtype: object"
      ]
     },
     "execution_count": 14,
     "metadata": {},
     "output_type": "execute_result"
    }
   ],
   "source": [
    "def cleaning_URLs(data):\n",
    "    return re.sub('((www.[^s]+)|(https?://[^s]+))',' ',data)\n",
    "data['tweet'] = data['tweet'].apply(lambda x: cleaning_URLs(x))\n",
    "data['tweet'].head()"
   ]
  },
  {
   "cell_type": "code",
   "execution_count": 15,
   "id": "8929af59",
   "metadata": {},
   "outputs": [
    {
     "data": {
      "text/plain": [
       "0              found perfect title portfolio song love\n",
       "1    new antivirus ive installed seems effective st...\n",
       "2    fact still love himyou learn mistakes hope don...\n",
       "3    think gotta make new twitter account cuz quots...\n",
       "4    end weekendback work tomorrow need longer week...\n",
       "Name: tweet, dtype: object"
      ]
     },
     "execution_count": 15,
     "metadata": {},
     "output_type": "execute_result"
    }
   ],
   "source": [
    "def cleaning_numbers(data):\n",
    "    return re.sub('[0-9]+', '', data)\n",
    "data['tweet'] = data['tweet'].apply(lambda x: cleaning_numbers(x))\n",
    "data['tweet'].head()"
   ]
  },
  {
   "cell_type": "markdown",
   "id": "d4167ff8",
   "metadata": {},
   "source": [
    "### PERFORMING STEMMING"
   ]
  },
  {
   "cell_type": "code",
   "execution_count": 16,
   "id": "df67b6af",
   "metadata": {},
   "outputs": [
    {
     "name": "stderr",
     "output_type": "stream",
     "text": [
      "[nltk_data] Downloading package punkt to\n",
      "[nltk_data]     C:\\Users\\ASUS\\AppData\\Roaming\\nltk_data...\n",
      "[nltk_data]   Package punkt is already up-to-date!\n"
     ]
    },
    {
     "data": {
      "text/plain": [
       "True"
      ]
     },
     "execution_count": 16,
     "metadata": {},
     "output_type": "execute_result"
    }
   ],
   "source": [
    "import nltk\n",
    "from nltk.tokenize import word_tokenize\n",
    "nltk.download('punkt')"
   ]
  },
  {
   "cell_type": "code",
   "execution_count": 17,
   "id": "4639da28",
   "metadata": {},
   "outputs": [
    {
     "data": {
      "text/plain": [
       "0       [found, perfect, title, portfolio, song, love]\n",
       "1    [new, antivirus, ive, installed, seems, effect...\n",
       "2    [fact, still, love, himyou, learn, mistakes, h...\n",
       "3    [think, got, ta, make, new, twitter, account, ...\n",
       "4    [end, weekendback, work, tomorrow, need, longe...\n",
       "Name: tweet, dtype: object"
      ]
     },
     "execution_count": 17,
     "metadata": {},
     "output_type": "execute_result"
    }
   ],
   "source": [
    "data['tweet'] = data['tweet'].apply(lambda x: word_tokenize(x))\n",
    "data['tweet'].head()"
   ]
  },
  {
   "cell_type": "code",
   "execution_count": 18,
   "id": "c44b619d",
   "metadata": {},
   "outputs": [
    {
     "data": {
      "text/plain": [
       "0       [found, perfect, title, portfolio, song, love]\n",
       "1    [new, antivirus, ive, installed, seems, effect...\n",
       "2    [fact, still, love, himyou, learn, mistakes, h...\n",
       "3    [think, got, ta, make, new, twitter, account, ...\n",
       "4    [end, weekendback, work, tomorrow, need, longe...\n",
       "Name: tweet, dtype: object"
      ]
     },
     "execution_count": 18,
     "metadata": {},
     "output_type": "execute_result"
    }
   ],
   "source": [
    "st = nltk.PorterStemmer()\n",
    "def stemming_on_text(data):\n",
    "    tweet = [st.stem(word) for word in data]\n",
    "    return data\n",
    "data['tweet']= data['tweet'].apply(lambda x: stemming_on_text(x))\n",
    "data['tweet'].head()"
   ]
  },
  {
   "cell_type": "markdown",
   "id": "7e037887",
   "metadata": {},
   "source": [
    "### PERFORMING LEMMETIZATION"
   ]
  },
  {
   "cell_type": "code",
   "execution_count": 19,
   "id": "62723695",
   "metadata": {},
   "outputs": [
    {
     "name": "stderr",
     "output_type": "stream",
     "text": [
      "[nltk_data] Downloading package wordnet to\n",
      "[nltk_data]     C:\\Users\\ASUS\\AppData\\Roaming\\nltk_data...\n",
      "[nltk_data]   Package wordnet is already up-to-date!\n",
      "[nltk_data] Downloading package omw-1.4 to\n",
      "[nltk_data]     C:\\Users\\ASUS\\AppData\\Roaming\\nltk_data...\n",
      "[nltk_data]   Package omw-1.4 is already up-to-date!\n"
     ]
    },
    {
     "data": {
      "text/plain": [
       "True"
      ]
     },
     "execution_count": 19,
     "metadata": {},
     "output_type": "execute_result"
    }
   ],
   "source": [
    "nltk.download('wordnet')\n",
    "nltk.download('omw-1.4')"
   ]
  },
  {
   "cell_type": "code",
   "execution_count": 20,
   "id": "1eef0206",
   "metadata": {},
   "outputs": [
    {
     "data": {
      "text/plain": [
       "0       [found, perfect, title, portfolio, song, love]\n",
       "1    [new, antivirus, ive, installed, seems, effect...\n",
       "2    [fact, still, love, himyou, learn, mistakes, h...\n",
       "3    [think, got, ta, make, new, twitter, account, ...\n",
       "4    [end, weekendback, work, tomorrow, need, longe...\n",
       "Name: tweet, dtype: object"
      ]
     },
     "execution_count": 20,
     "metadata": {},
     "output_type": "execute_result"
    }
   ],
   "source": [
    "lm = nltk.WordNetLemmatizer()\n",
    "def lemmatizer_on_text(data):\n",
    "    tweet = [lm.lemmatize(word) for word in data]\n",
    "    return data\n",
    "data['tweet'] = data['tweet'].apply(lambda x: lemmatizer_on_text(x))\n",
    "data['tweet'].head()"
   ]
  },
  {
   "cell_type": "markdown",
   "id": "5caed2e9",
   "metadata": {},
   "source": [
    "### PERFORMING TRAIN-TEST SPLIT"
   ]
  },
  {
   "cell_type": "code",
   "execution_count": 21,
   "id": "023fbf99",
   "metadata": {},
   "outputs": [],
   "source": [
    "data['tweet_str'] = data['tweet'].apply(lambda x: ' '.join(x))\n",
    "X_train, X_test, y_train, y_test = train_test_split(data['tweet_str'], data['target'], test_size=0.05, random_state=42)"
   ]
  },
  {
   "cell_type": "markdown",
   "id": "5ea88e9c",
   "metadata": {},
   "source": [
    "### PERFORMING VECTORIZATION"
   ]
  },
  {
   "cell_type": "code",
   "execution_count": 22,
   "id": "a4f90500",
   "metadata": {},
   "outputs": [],
   "source": [
    "vectorizer = TfidfVectorizer(ngram_range=(1, 2), max_features=500000)\n",
    "vectorizer.fit(X_train)\n",
    "X_train_vec = vectorizer.transform(X_train)\n",
    "X_test_vec = vectorizer.transform(X_test)"
   ]
  },
  {
   "cell_type": "markdown",
   "id": "19922997",
   "metadata": {},
   "source": [
    "### LOGISTIC REGRESSION"
   ]
  },
  {
   "cell_type": "code",
   "execution_count": 23,
   "id": "77657c9d",
   "metadata": {},
   "outputs": [
    {
     "data": {
      "text/plain": [
       "LogisticRegression()"
      ]
     },
     "execution_count": 23,
     "metadata": {},
     "output_type": "execute_result"
    }
   ],
   "source": [
    "logistic_regression = LogisticRegression()\n",
    "logistic_regression.fit(X_train_vec, y_train)"
   ]
  },
  {
   "cell_type": "code",
   "execution_count": 24,
   "id": "fce919db",
   "metadata": {},
   "outputs": [
    {
     "name": "stdout",
     "output_type": "stream",
     "text": [
      "Testing accuracy of the Logistic Regression model is:  0.764\n"
     ]
    }
   ],
   "source": [
    "y_pred_lr = logistic_regression.predict(X_test_vec)\n",
    "print (\"Testing accuracy of the Logistic Regression model is: \", accuracy_score(y_test, y_pred_lr))"
   ]
  },
  {
   "cell_type": "code",
   "execution_count": 25,
   "id": "b518a4bc",
   "metadata": {},
   "outputs": [
    {
     "data": {
      "image/png": "[encoded data removed]",
      "text/plain": [
       "<Figure size 640x480 with 2 Axes>"
      ]
     },
     "metadata": {},
     "output_type": "display_data"
    }
   ],
   "source": [
    "matrix_lr = confusion_matrix(y_test, y_pred_lr)\n",
    "sns.heatmap(matrix_lr, annot=True, fmt=\"d\", cmap=\"Blues\")\n",
    "plt.xlabel(\"Predicted\")\n",
    "plt.ylabel(\"True\")\n",
    "plt.title(\"Confusion Matrix for Logistic Regression\")\n",
    "plt.show()"
   ]
  },
  {
   "cell_type": "markdown",
   "id": "059acb3f",
   "metadata": {},
   "source": [
    "### LSTM"
   ]
  },
  {
   "cell_type": "code",
   "execution_count": 26,
   "id": "ebea3418",
   "metadata": {},
   "outputs": [],
   "source": [
    "X_train_array = np.array(X_train_vec.toarray())\n",
    "X_test_array = np.array(X_test_vec.toarray())"
   ]
  },
  {
   "cell_type": "code",
   "execution_count": 27,
   "id": "6e641f12",
   "metadata": {},
   "outputs": [
    {
     "name": "stdout",
     "output_type": "stream",
     "text": [
      "Epoch 1/3\n",
      "149/149 [==============================] - 26s 138ms/step - loss: 0.6681 - accuracy: 0.5876 - val_loss: 0.5767 - val_accuracy: 0.7020\n",
      "Epoch 2/3\n",
      "149/149 [==============================] - 15s 102ms/step - loss: 0.4569 - accuracy: 0.7858 - val_loss: 0.5676 - val_accuracy: 0.7000\n",
      "Epoch 3/3\n",
      "149/149 [==============================] - 15s 102ms/step - loss: 0.2448 - accuracy: 0.9000 - val_loss: 0.7869 - val_accuracy: 0.6920\n"
     ]
    },
    {
     "data": {
      "text/plain": [
       "<keras.callbacks.History at 0x2a01eac2ee0>"
      ]
     },
     "execution_count": 27,
     "metadata": {},
     "output_type": "execute_result"
    }
   ],
   "source": [
    "time_steps = 10\n",
    "X_train_reshaped = X_train_array.reshape(-1, time_steps, X_train_array.shape[1] // time_steps)\n",
    "model_lstm = Sequential()\n",
    "model_lstm.add(LSTM(100, input_shape=(X_train_reshaped.shape[1], X_train_reshaped.shape[2])))\n",
    "model_lstm.add(Dense(1, activation='sigmoid'))\n",
    "model_lstm.compile(optimizer='adam', loss='binary_crossentropy', metrics=['accuracy'])\n",
    "model_lstm.fit(X_train_reshaped, y_train, epochs=3, batch_size=64, validation_data=(X_test_array.reshape(-1, time_steps, X_test_array.shape[1] // time_steps), y_test))"
   ]
  },
  {
   "cell_type": "code",
   "execution_count": 28,
   "id": "45ec19da",
   "metadata": {},
   "outputs": [
    {
     "name": "stdout",
     "output_type": "stream",
     "text": [
      "16/16 [==============================] - 1s 24ms/step\n",
      "Testing accuracy of the LSTM model is: 0.692\n"
     ]
    }
   ],
   "source": [
    "y_pred_lstm = (model_lstm.predict(X_test_array.reshape(-1, time_steps, X_test_array.shape[1] // time_steps)) > 0.5).astype(\"int32\")\n",
    "accuracy_lstm = accuracy_score(y_test, y_pred_lstm)\n",
    "print(f\"Testing accuracy of the LSTM model is: {accuracy_lstm}\")"
   ]
  },
  {
   "cell_type": "code",
   "execution_count": 29,
   "id": "a328bada",
   "metadata": {},
   "outputs": [
    {
     "data": {
      "image/png": "[encoded data removed]",
      "text/plain": [
       "<Figure size 640x480 with 2 Axes>"
      ]
     },
     "metadata": {},
     "output_type": "display_data"
    }
   ],
   "source": [
    "matrix_lstm = confusion_matrix(y_test, y_pred_lstm)\n",
    "sns.heatmap(matrix_lstm, annot=True, fmt=\"d\", cmap=\"Blues\")\n",
    "plt.xlabel(\"Predicted\")\n",
    "plt.ylabel(\"True\")\n",
    "plt.title(\"Confusion Matrix for LSTM\")\n",
    "plt.show()"
   ]
  },
  {
   "cell_type": "markdown",
   "id": "4f6037a1",
   "metadata": {},
   "source": [
    "### KNN"
   ]
  },
  {
   "cell_type": "code",
   "execution_count": 30,
   "id": "f7c777a9",
   "metadata": {},
   "outputs": [],
   "source": [
    "knn_classifier = KNeighborsClassifier(n_neighbors=5)\n",
    "knn_classifier.fit(X_train_vec, y_train)\n",
    "y_pred_knn = knn_classifier.predict(X_test_vec)"
   ]
  },
  {
   "cell_type": "code",
   "execution_count": 31,
   "id": "06655f65",
   "metadata": {},
   "outputs": [
    {
     "name": "stdout",
     "output_type": "stream",
     "text": [
      "Testing accuracy of the KNN model is:  0.614\n"
     ]
    }
   ],
   "source": [
    "y_pred_knn = knn_classifier.predict(X_test_vec)\n",
    "print (\"Testing accuracy of the KNN model is: \", accuracy_score(y_test, y_pred_knn))"
   ]
  },
  {
   "cell_type": "code",
   "execution_count": 32,
   "id": "6c90d284",
   "metadata": {},
   "outputs": [
    {
     "data": {
      "image/png": "[encoded data removed]",
      "text/plain": [
       "<Figure size 640x480 with 2 Axes>"
      ]
     },
     "metadata": {},
     "output_type": "display_data"
    }
   ],
   "source": [
    "matrix_knn = confusion_matrix(y_test, y_pred_knn)\n",
    "sns.heatmap(matrix_knn, annot=True, fmt=\"d\", cmap=\"Blues\")\n",
    "plt.xlabel(\"Predicted\")\n",
    "plt.ylabel(\"True\")\n",
    "plt.title(\"Confusion Matrix for KNN\")\n",
    "plt.show()"
   ]
  }
 ],
 "metadata": {
  "kernelspec": {
   "display_name": "Python 3 (ipykernel)",
   "language": "python",
   "name": "python3"
  },
  "language_info": {
   "codemirror_mode": {
    "name": "ipython",
    "version": 3
   },
   "file_extension": ".py",
   "mimetype": "text/x-python",
   "name": "python",
   "nbconvert_exporter": "python",
   "pygments_lexer": "ipython3",
   "version": "3.9.13"
  }
 },
 "nbformat": 4,
 "nbformat_minor": 5
}
